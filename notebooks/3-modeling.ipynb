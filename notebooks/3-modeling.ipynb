{
 "cells": [
  {
   "attachments": {},
   "cell_type": "markdown",
   "metadata": {},
   "source": [
    "# Modeling\n",
    "\n",
    "In this notebook, the performance of different models is examined."
   ]
  },
  {
   "cell_type": "markdown",
   "metadata": {},
   "source": [
    "## Setup"
   ]
  },
  {
   "attachments": {},
   "cell_type": "markdown",
   "metadata": {},
   "source": [
    "Import libraries."
   ]
  },
  {
   "cell_type": "code",
   "execution_count": 96,
   "metadata": {},
   "outputs": [],
   "source": [
    "import numpy as np\n",
    "import pandas as pd\n",
    "from imblearn.pipeline import make_pipeline\n",
    "from imblearn.over_sampling import SMOTE\n",
    "from sklearn.compose import make_column_transformer\n",
    "from sklearn.ensemble import GradientBoostingClassifier, RandomForestClassifier\n",
    "from sklearn.linear_model import LogisticRegression\n",
    "from sklearn.metrics import roc_auc_score\n",
    "from sklearn.model_selection import cross_val_score, GridSearchCV, RandomizedSearchCV\n",
    "from sklearn.neighbors import KNeighborsClassifier\n",
    "from sklearn.preprocessing import OneHotEncoder, MinMaxScaler\n",
    "from xgboost import XGBClassifier"
   ]
  },
  {
   "cell_type": "markdown",
   "metadata": {},
   "source": [
    "Load datasets."
   ]
  },
  {
   "cell_type": "code",
   "execution_count": 97,
   "metadata": {},
   "outputs": [],
   "source": [
    "df_train = pd.read_csv(\"../data/processed/train.csv\")\n",
    "df_val = pd.read_csv(\"../data/processed/val.csv\")\n",
    "df_test = pd.read_csv(\"../data/processed/test.csv\")"
   ]
  },
  {
   "cell_type": "code",
   "execution_count": 98,
   "metadata": {},
   "outputs": [],
   "source": [
    "X_train = df_train.drop(columns=[\"claim_number\", \"fraud\"])\n",
    "y_train = df_train[\"fraud\"]\n",
    "X_val = df_val.drop(columns=[\"claim_number\", \"fraud\"])\n",
    "y_val = df_val[\"fraud\"]\n",
    "X_test = df_test.drop(columns=[\"claim_number\"])"
   ]
  },
  {
   "cell_type": "markdown",
   "metadata": {},
   "source": [
    "## Model Selection"
   ]
  },
  {
   "attachments": {},
   "cell_type": "markdown",
   "metadata": {},
   "source": [
    "`OneHotEncoder` will dummify categorical features, and numerical features will be re-scaled with `MinMaxScaler`."
   ]
  },
  {
   "cell_type": "code",
   "execution_count": 99,
   "metadata": {},
   "outputs": [],
   "source": [
    "categorical_features = X_train.columns[X_train.dtypes == object].tolist()\n",
    "column_transformer = make_column_transformer(\n",
    "    (OneHotEncoder(drop=\"first\"), categorical_features),\n",
    "    remainder=\"passthrough\",\n",
    ")\n",
    "scaler = MinMaxScaler()"
   ]
  },
  {
   "attachments": {},
   "cell_type": "markdown",
   "metadata": {},
   "source": [
    "A simple function that defines the training pipeline: fit the model, predict on the validation set, print the evaluation metric."
   ]
  },
  {
   "cell_type": "code",
   "execution_count": 100,
   "metadata": {},
   "outputs": [],
   "source": [
    "def modeling(X_train, y_train, X_val, y_val, steps):\n",
    "    pipeline = make_pipeline(*steps)\n",
    "    pipeline.fit(X_train, y_train)\n",
    "    y_val_pred = pipeline.predict_proba(X_val)[:, 1]\n",
    "    metric = roc_auc_score(y_val, y_val_pred)\n",
    "    if isinstance(pipeline._final_estimator, RandomizedSearchCV) or isinstance(pipeline._final_estimator, GridSearchCV):\n",
    "        print(f\"Best params: {pipeline._final_estimator.best_params_}\")\n",
    "    print(f\"AUC score: {metric}\")\n",
    "    return pipeline"
   ]
  },
  {
   "attachments": {},
   "cell_type": "markdown",
   "metadata": {},
   "source": [
    "### K-Nearest Neighbor\n",
    "\n",
    "KNN has two hyperparameters: the number of neighbors, and whether all points in each neighborhood are weighted equally or weighted by the inverse of their distance. Since the number of hyperparameters is small. A grid search is used to find the optimal hyperparameter values."
   ]
  },
  {
   "cell_type": "code",
   "execution_count": 101,
   "metadata": {},
   "outputs": [
    {
     "name": "stdout",
     "output_type": "stream",
     "text": [
      "Best params: {'n_neighbors': 50, 'weights': 'distance'}\n",
      "AUC score: 0.6507841602442943\n"
     ]
    }
   ],
   "source": [
    "param_grid = {\n",
    "    \"n_neighbors\": [5, 10, 25, 50],\n",
    "    \"weights\": [\"uniform\", \"distance\"],\n",
    "}\n",
    "\n",
    "knn_clf = GridSearchCV(\n",
    "    KNeighborsClassifier(),\n",
    "    param_grid=param_grid,\n",
    "    n_jobs=-1,\n",
    "    cv=5,\n",
    "    scoring=\"roc_auc\",\n",
    ")\n",
    "\n",
    "knn_pipeline = modeling(X_train, y_train, X_val, y_val, [column_transformer, scaler, knn_clf])"
   ]
  },
  {
   "attachments": {},
   "cell_type": "markdown",
   "metadata": {},
   "source": [
    "### Logistic Regression\n",
    "\n",
    "For logistic regression, there is no hyperparameter to tune."
   ]
  },
  {
   "cell_type": "code",
   "execution_count": 102,
   "metadata": {},
   "outputs": [
    {
     "name": "stdout",
     "output_type": "stream",
     "text": [
      "AUC score: 0.7158620196696263\n"
     ]
    }
   ],
   "source": [
    "lr_clf = LogisticRegression()\n",
    "lr_pipeline = modeling(X_train, y_train, X_val, y_val, [column_transformer, scaler, lr_clf])"
   ]
  },
  {
   "attachments": {},
   "cell_type": "markdown",
   "metadata": {},
   "source": [
    "Look at the model coefficients."
   ]
  },
  {
   "cell_type": "code",
   "execution_count": 103,
   "metadata": {},
   "outputs": [
    {
     "data": {
      "text/html": [
       "<div>\n",
       "<style scoped>\n",
       "    .dataframe tbody tr th:only-of-type {\n",
       "        vertical-align: middle;\n",
       "    }\n",
       "\n",
       "    .dataframe tbody tr th {\n",
       "        vertical-align: top;\n",
       "    }\n",
       "\n",
       "    .dataframe thead th {\n",
       "        text-align: right;\n",
       "    }\n",
       "</style>\n",
       "<table border=\"1\" class=\"dataframe\">\n",
       "  <thead>\n",
       "    <tr style=\"text-align: right;\">\n",
       "      <th></th>\n",
       "      <th>feature_name</th>\n",
       "      <th>coefficient</th>\n",
       "    </tr>\n",
       "  </thead>\n",
       "  <tbody>\n",
       "    <tr>\n",
       "      <th>0</th>\n",
       "      <td>past_num_of_claims</td>\n",
       "      <td>1.744461</td>\n",
       "    </tr>\n",
       "    <tr>\n",
       "      <th>1</th>\n",
       "      <td>annual_income</td>\n",
       "      <td>1.651437</td>\n",
       "    </tr>\n",
       "    <tr>\n",
       "      <th>2</th>\n",
       "      <td>age_of_vehicle</td>\n",
       "      <td>0.973873</td>\n",
       "    </tr>\n",
       "    <tr>\n",
       "      <th>3</th>\n",
       "      <td>address_change_ind</td>\n",
       "      <td>0.398695</td>\n",
       "    </tr>\n",
       "    <tr>\n",
       "      <th>4</th>\n",
       "      <td>longitude</td>\n",
       "      <td>0.355322</td>\n",
       "    </tr>\n",
       "    <tr>\n",
       "      <th>5</th>\n",
       "      <td>living_status_Rent</td>\n",
       "      <td>0.128365</td>\n",
       "    </tr>\n",
       "    <tr>\n",
       "      <th>6</th>\n",
       "      <td>vehicle_weight</td>\n",
       "      <td>0.110477</td>\n",
       "    </tr>\n",
       "    <tr>\n",
       "      <th>7</th>\n",
       "      <td>vehicle_price</td>\n",
       "      <td>0.086373</td>\n",
       "    </tr>\n",
       "    <tr>\n",
       "      <th>8</th>\n",
       "      <td>policy_report_filed_ind</td>\n",
       "      <td>0.085690</td>\n",
       "    </tr>\n",
       "    <tr>\n",
       "      <th>9</th>\n",
       "      <td>channel_Phone</td>\n",
       "      <td>0.041538</td>\n",
       "    </tr>\n",
       "    <tr>\n",
       "      <th>10</th>\n",
       "      <td>vehicle_category_Medium</td>\n",
       "      <td>0.030925</td>\n",
       "    </tr>\n",
       "    <tr>\n",
       "      <th>11</th>\n",
       "      <td>liab_prct</td>\n",
       "      <td>0.029708</td>\n",
       "    </tr>\n",
       "    <tr>\n",
       "      <th>12</th>\n",
       "      <td>vehicle_category_Large</td>\n",
       "      <td>-0.063918</td>\n",
       "    </tr>\n",
       "    <tr>\n",
       "      <th>13</th>\n",
       "      <td>latitude</td>\n",
       "      <td>-0.149947</td>\n",
       "    </tr>\n",
       "    <tr>\n",
       "      <th>14</th>\n",
       "      <td>accident_site_Local</td>\n",
       "      <td>-0.233334</td>\n",
       "    </tr>\n",
       "    <tr>\n",
       "      <th>15</th>\n",
       "      <td>gender_M</td>\n",
       "      <td>-0.276077</td>\n",
       "    </tr>\n",
       "    <tr>\n",
       "      <th>16</th>\n",
       "      <td>channel_Online</td>\n",
       "      <td>-0.299859</td>\n",
       "    </tr>\n",
       "    <tr>\n",
       "      <th>17</th>\n",
       "      <td>claim_est_payout</td>\n",
       "      <td>-0.355579</td>\n",
       "    </tr>\n",
       "    <tr>\n",
       "      <th>18</th>\n",
       "      <td>marital_status</td>\n",
       "      <td>-0.457051</td>\n",
       "    </tr>\n",
       "    <tr>\n",
       "      <th>19</th>\n",
       "      <td>high_education_ind</td>\n",
       "      <td>-0.644878</td>\n",
       "    </tr>\n",
       "    <tr>\n",
       "      <th>20</th>\n",
       "      <td>witness_present_ind</td>\n",
       "      <td>-0.712017</td>\n",
       "    </tr>\n",
       "    <tr>\n",
       "      <th>21</th>\n",
       "      <td>accident_site_Parking Lot</td>\n",
       "      <td>-1.012393</td>\n",
       "    </tr>\n",
       "    <tr>\n",
       "      <th>22</th>\n",
       "      <td>safty_rating</td>\n",
       "      <td>-1.023375</td>\n",
       "    </tr>\n",
       "    <tr>\n",
       "      <th>23</th>\n",
       "      <td>age_of_driver</td>\n",
       "      <td>-2.552638</td>\n",
       "    </tr>\n",
       "  </tbody>\n",
       "</table>\n",
       "</div>"
      ],
      "text/plain": [
       "                 feature_name  coefficient\n",
       "0          past_num_of_claims     1.744461\n",
       "1               annual_income     1.651437\n",
       "2              age_of_vehicle     0.973873\n",
       "3          address_change_ind     0.398695\n",
       "4                   longitude     0.355322\n",
       "5          living_status_Rent     0.128365\n",
       "6              vehicle_weight     0.110477\n",
       "7               vehicle_price     0.086373\n",
       "8     policy_report_filed_ind     0.085690\n",
       "9               channel_Phone     0.041538\n",
       "10    vehicle_category_Medium     0.030925\n",
       "11                  liab_prct     0.029708\n",
       "12     vehicle_category_Large    -0.063918\n",
       "13                   latitude    -0.149947\n",
       "14        accident_site_Local    -0.233334\n",
       "15                   gender_M    -0.276077\n",
       "16             channel_Online    -0.299859\n",
       "17           claim_est_payout    -0.355579\n",
       "18             marital_status    -0.457051\n",
       "19         high_education_ind    -0.644878\n",
       "20        witness_present_ind    -0.712017\n",
       "21  accident_site_Parking Lot    -1.012393\n",
       "22               safty_rating    -1.023375\n",
       "23              age_of_driver    -2.552638"
      ]
     },
     "execution_count": 103,
     "metadata": {},
     "output_type": "execute_result"
    }
   ],
   "source": [
    "def add_dummies(df, categorical_features):\n",
    "    dummies = pd.get_dummies(df[categorical_features], drop_first=True)\n",
    "    df = pd.concat([dummies, df], axis=1)\n",
    "    df = df.drop(categorical_features, axis=1)\n",
    "    return df.columns\n",
    "\n",
    "feature_names = add_dummies(X_train, categorical_features)\n",
    "\n",
    "pd.DataFrame({\n",
    "    \"feature_name\": feature_names,\n",
    "    \"coefficient\": lr_pipeline._final_estimator.coef_[0]\n",
    "}).sort_values(by=\"coefficient\", ascending=False).reset_index(drop=True)"
   ]
  },
  {
   "attachments": {},
   "cell_type": "markdown",
   "metadata": {},
   "source": [
    "### XGBoost\n",
    "\n",
    "Since there are many hyperparameters in XGBoost, I decide to use a randomized search for hyperparameter tuning."
   ]
  },
  {
   "cell_type": "code",
   "execution_count": 104,
   "metadata": {},
   "outputs": [
    {
     "name": "stdout",
     "output_type": "stream",
     "text": [
      "Best params: {'subsample': 0.6, 'n_estimators': 200, 'min_child_weight': 5.0, 'max_depth': 1, 'learning_rate': 0.2, 'gamma': 0.25, 'colsample_bytree': 0.8, 'colsample_bylevel': 1.0}\n",
      "AUC score: 0.7299492498801847\n"
     ]
    }
   ],
   "source": [
    "param_grid = {\n",
    "    \"max_depth\": [1, 2, 3, 4, 5, 6, 7, 8, 9, 10],\n",
    "    \"learning_rate\": [0.001, 0.01, 0.1, 0.2, 0.3],\n",
    "    \"subsample\": [0.5, 0.6, 0.7, 0.8, 0.9, 1.0],\n",
    "    \"colsample_bytree\": [0.4, 0.5, 0.6, 0.7, 0.8, 0.9, 1.0],\n",
    "    \"colsample_bylevel\": [0.4, 0.5, 0.6, 0.7, 0.8, 0.9, 1.0],\n",
    "    \"min_child_weight\": [0.5, 1.0, 3.0, 5.0, 7.0, 10.0],\n",
    "    \"gamma\": [0, 0.25, 0.5, 1.0],\n",
    "    \"n_estimators\": [10, 20, 40, 60, 80, 100, 150, 200]\n",
    "}\n",
    "\n",
    "xgb_clf = RandomizedSearchCV(\n",
    "    XGBClassifier(),\n",
    "    param_distributions=param_grid,\n",
    "    n_iter=50,\n",
    "    n_jobs=-1,\n",
    "    cv=5,\n",
    "    random_state=23,\n",
    "    scoring=\"roc_auc\",\n",
    ")\n",
    "\n",
    "xgb_pipeline = modeling(X_train, y_train, X_val, y_val, [column_transformer, scaler, xgb_clf])"
   ]
  },
  {
   "attachments": {},
   "cell_type": "markdown",
   "metadata": {},
   "source": [
    "Although the class imbalance is not very serious in this dataset, I want to see if using SMOTE to synthesize new examples for the minority class can improve the predictive performance. However, it seems that using SMOTE only worsens the performance."
   ]
  },
  {
   "cell_type": "code",
   "execution_count": 105,
   "metadata": {},
   "outputs": [
    {
     "name": "stdout",
     "output_type": "stream",
     "text": [
      "Best params: {'subsample': 1.0, 'n_estimators': 200, 'min_child_weight': 0.5, 'max_depth': 10, 'learning_rate': 0.1, 'gamma': 0.25, 'colsample_bytree': 0.5, 'colsample_bylevel': 0.6}\n",
      "AUC score: 0.692908458782958\n"
     ]
    }
   ],
   "source": [
    "sampler = SMOTE(random_state=42)\n",
    "xgb_pipeline_smote = modeling(X_train, y_train, X_val, y_val, [column_transformer, scaler, sampler, xgb_clf])"
   ]
  },
  {
   "attachments": {},
   "cell_type": "markdown",
   "metadata": {},
   "source": [
    "Save the XGBoost model (without SMOTE), since it has the best performance."
   ]
  },
  {
   "cell_type": "code",
   "execution_count": 106,
   "metadata": {},
   "outputs": [],
   "source": [
    "best_model = xgb_pipeline._final_estimator.best_estimator_\n",
    "steps = [column_transformer, scaler, best_model]\n",
    "pipeline = make_pipeline(*steps)\n",
    "y_test_pred = pipeline.predict_proba(X_test)[:, 1]\n",
    "\n",
    "df = pd.DataFrame({\n",
    "    \"claim_number\": df_test[\"claim_number\"],\n",
    "    \"fraud\": y_test_pred\n",
    "})\n",
    "df.to_csv(\"../data/submission/submission.csv\", index=False)"
   ]
  },
  {
   "attachments": {},
   "cell_type": "markdown",
   "metadata": {},
   "source": [
    "To examine which feature is important, I introduce a feature with random numbers. A feature can be considered as important If the importance of that feature is larger than that of the random feature."
   ]
  },
  {
   "cell_type": "code",
   "execution_count": 107,
   "metadata": {},
   "outputs": [
    {
     "data": {
      "text/html": [
       "<div>\n",
       "<style scoped>\n",
       "    .dataframe tbody tr th:only-of-type {\n",
       "        vertical-align: middle;\n",
       "    }\n",
       "\n",
       "    .dataframe tbody tr th {\n",
       "        vertical-align: top;\n",
       "    }\n",
       "\n",
       "    .dataframe thead th {\n",
       "        text-align: right;\n",
       "    }\n",
       "</style>\n",
       "<table border=\"1\" class=\"dataframe\">\n",
       "  <thead>\n",
       "    <tr style=\"text-align: right;\">\n",
       "      <th></th>\n",
       "      <th>feature_name</th>\n",
       "      <th>importance</th>\n",
       "    </tr>\n",
       "  </thead>\n",
       "  <tbody>\n",
       "    <tr>\n",
       "      <th>0</th>\n",
       "      <td>accident_site_Parking Lot</td>\n",
       "      <td>0.111512</td>\n",
       "    </tr>\n",
       "    <tr>\n",
       "      <th>1</th>\n",
       "      <td>high_education_ind</td>\n",
       "      <td>0.086793</td>\n",
       "    </tr>\n",
       "    <tr>\n",
       "      <th>2</th>\n",
       "      <td>witness_present_ind</td>\n",
       "      <td>0.073076</td>\n",
       "    </tr>\n",
       "    <tr>\n",
       "      <th>3</th>\n",
       "      <td>past_num_of_claims</td>\n",
       "      <td>0.049883</td>\n",
       "    </tr>\n",
       "    <tr>\n",
       "      <th>4</th>\n",
       "      <td>marital_status</td>\n",
       "      <td>0.049224</td>\n",
       "    </tr>\n",
       "    <tr>\n",
       "      <th>5</th>\n",
       "      <td>address_change_ind</td>\n",
       "      <td>0.042440</td>\n",
       "    </tr>\n",
       "    <tr>\n",
       "      <th>6</th>\n",
       "      <td>annual_income</td>\n",
       "      <td>0.038600</td>\n",
       "    </tr>\n",
       "    <tr>\n",
       "      <th>7</th>\n",
       "      <td>claim_est_payout</td>\n",
       "      <td>0.037326</td>\n",
       "    </tr>\n",
       "    <tr>\n",
       "      <th>8</th>\n",
       "      <td>longitude</td>\n",
       "      <td>0.035035</td>\n",
       "    </tr>\n",
       "    <tr>\n",
       "      <th>9</th>\n",
       "      <td>age_of_driver</td>\n",
       "      <td>0.034031</td>\n",
       "    </tr>\n",
       "    <tr>\n",
       "      <th>10</th>\n",
       "      <td>vehicle_price</td>\n",
       "      <td>0.033818</td>\n",
       "    </tr>\n",
       "    <tr>\n",
       "      <th>11</th>\n",
       "      <td>safty_rating</td>\n",
       "      <td>0.032967</td>\n",
       "    </tr>\n",
       "    <tr>\n",
       "      <th>12</th>\n",
       "      <td>vehicle_weight</td>\n",
       "      <td>0.032838</td>\n",
       "    </tr>\n",
       "    <tr>\n",
       "      <th>13</th>\n",
       "      <td>liab_prct</td>\n",
       "      <td>0.032394</td>\n",
       "    </tr>\n",
       "    <tr>\n",
       "      <th>14</th>\n",
       "      <td>accident_site_Local</td>\n",
       "      <td>0.032307</td>\n",
       "    </tr>\n",
       "    <tr>\n",
       "      <th>15</th>\n",
       "      <td>random_feature</td>\n",
       "      <td>0.030741</td>\n",
       "    </tr>\n",
       "    <tr>\n",
       "      <th>16</th>\n",
       "      <td>latitude</td>\n",
       "      <td>0.030667</td>\n",
       "    </tr>\n",
       "    <tr>\n",
       "      <th>17</th>\n",
       "      <td>gender_M</td>\n",
       "      <td>0.028389</td>\n",
       "    </tr>\n",
       "    <tr>\n",
       "      <th>18</th>\n",
       "      <td>age_of_vehicle</td>\n",
       "      <td>0.027540</td>\n",
       "    </tr>\n",
       "    <tr>\n",
       "      <th>19</th>\n",
       "      <td>vehicle_category_Medium</td>\n",
       "      <td>0.027129</td>\n",
       "    </tr>\n",
       "    <tr>\n",
       "      <th>20</th>\n",
       "      <td>channel_Phone</td>\n",
       "      <td>0.027108</td>\n",
       "    </tr>\n",
       "    <tr>\n",
       "      <th>21</th>\n",
       "      <td>vehicle_category_Large</td>\n",
       "      <td>0.026953</td>\n",
       "    </tr>\n",
       "    <tr>\n",
       "      <th>22</th>\n",
       "      <td>channel_Online</td>\n",
       "      <td>0.026727</td>\n",
       "    </tr>\n",
       "    <tr>\n",
       "      <th>23</th>\n",
       "      <td>policy_report_filed_ind</td>\n",
       "      <td>0.026666</td>\n",
       "    </tr>\n",
       "    <tr>\n",
       "      <th>24</th>\n",
       "      <td>living_status_Rent</td>\n",
       "      <td>0.025836</td>\n",
       "    </tr>\n",
       "  </tbody>\n",
       "</table>\n",
       "</div>"
      ],
      "text/plain": [
       "                 feature_name  importance\n",
       "0   accident_site_Parking Lot    0.111512\n",
       "1          high_education_ind    0.086793\n",
       "2         witness_present_ind    0.073076\n",
       "3          past_num_of_claims    0.049883\n",
       "4              marital_status    0.049224\n",
       "5          address_change_ind    0.042440\n",
       "6               annual_income    0.038600\n",
       "7            claim_est_payout    0.037326\n",
       "8                   longitude    0.035035\n",
       "9               age_of_driver    0.034031\n",
       "10              vehicle_price    0.033818\n",
       "11               safty_rating    0.032967\n",
       "12             vehicle_weight    0.032838\n",
       "13                  liab_prct    0.032394\n",
       "14        accident_site_Local    0.032307\n",
       "15             random_feature    0.030741\n",
       "16                   latitude    0.030667\n",
       "17                   gender_M    0.028389\n",
       "18             age_of_vehicle    0.027540\n",
       "19    vehicle_category_Medium    0.027129\n",
       "20              channel_Phone    0.027108\n",
       "21     vehicle_category_Large    0.026953\n",
       "22             channel_Online    0.026727\n",
       "23    policy_report_filed_ind    0.026666\n",
       "24         living_status_Rent    0.025836"
      ]
     },
     "execution_count": 107,
     "metadata": {},
     "output_type": "execute_result"
    }
   ],
   "source": [
    "X_train[\"random_feature\"] = np.random.uniform(size=len(X_train))\n",
    "xgb_clf_random_feature = XGBClassifier(**xgb_pipeline._final_estimator.best_params_)\n",
    "steps = [column_transformer, scaler, xgb_clf_random_feature]\n",
    "xgb_pipeline_random_feature = make_pipeline(*steps)\n",
    "xgb_pipeline_random_feature = xgb_pipeline_random_feature.fit(X_train, y_train)\n",
    "\n",
    "pd.DataFrame({\n",
    "    \"feature_name\": list(feature_names) + [\"random_feature\"],\n",
    "    \"importance\": xgb_pipeline_random_feature._final_estimator.feature_importances_\n",
    "}).sort_values(by=\"importance\", ascending=False).reset_index(drop=True)"
   ]
  }
 ],
 "metadata": {
  "interpreter": {
   "hash": "03e93f2959c516196957ae17ec0aa5d1e9fc5dd82cbe13968d4cfc2a60558992"
  },
  "kernelspec": {
   "display_name": "Python 3.8.5 64-bit ('venv': venv)",
   "name": "python3"
  },
  "language_info": {
   "codemirror_mode": {
    "name": "ipython",
    "version": 3
   },
   "file_extension": ".py",
   "mimetype": "text/x-python",
   "name": "python",
   "nbconvert_exporter": "python",
   "pygments_lexer": "ipython3",
   "version": "3.8.5"
  }
 },
 "nbformat": 4,
 "nbformat_minor": 2
}
